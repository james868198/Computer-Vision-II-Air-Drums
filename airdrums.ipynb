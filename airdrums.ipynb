{
  "nbformat": 4,
  "nbformat_minor": 0,
  "metadata": {
    "colab": {
      "name": "airdrums",
      "provenance": [],
      "collapsed_sections": [],
      "authorship_tag": "ABX9TyO+xl4awt8BnMTKuQydRror",
      "include_colab_link": true
    },
    "kernelspec": {
      "name": "python3",
      "display_name": "Python 3"
    }
  },
  "cells": [
    {
      "cell_type": "markdown",
      "metadata": {
        "id": "view-in-github",
        "colab_type": "text"
      },
      "source": [
        "<a href=\"https://colab.research.google.com/github/ric31303/Computer-Vision-II-Air-Drums/blob/master/airdrums.ipynb\" target=\"_parent\"><img src=\"https://colab.research.google.com/assets/colab-badge.svg\" alt=\"Open In Colab\"/></a>"
      ]
    },
    {
      "cell_type": "markdown",
      "metadata": {
        "id": "NKidvp-wPfR4",
        "colab_type": "text"
      },
      "source": [
        "Computer-Vision-II-Air-Drums"
      ]
    },
    {
      "cell_type": "markdown",
      "metadata": {
        "id": "Ty3HHZvVSfWl",
        "colab_type": "text"
      },
      "source": [
        "github: https://github.com/ric31303/Computer-Vision-II-Air-Drums.git"
      ]
    },
    {
      "cell_type": "code",
      "metadata": {
        "id": "DCXuGMKoPpoC",
        "colab_type": "code",
        "outputId": "9613c338-fe14-4193-9297-eca51525ae2d",
        "colab": {
          "base_uri": "https://localhost:8080/",
          "height": 34
        }
      },
      "source": [
        "print(\"hello world\")\n",
        "print(\"1\")"
      ],
      "execution_count": 0,
      "outputs": [
        {
          "output_type": "stream",
          "text": [
            "hello world\n"
          ],
          "name": "stdout"
        }
      ]
    },
    {
      "cell_type": "markdown",
      "metadata": {
        "id": "_W-wiKYNNeI5",
        "colab_type": "text"
      },
      "source": [
        "test\n"
      ]
    }
  ]
}