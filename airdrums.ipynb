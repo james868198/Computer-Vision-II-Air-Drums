{
  "nbformat": 4,
  "nbformat_minor": 0,
  "metadata": {
    "colab": {
      "name": "airdrums",
      "provenance": [],
      "collapsed_sections": []
    },
    "kernelspec": {
      "name": "python3",
      "display_name": "Python 3"
    }
  },
  "cells": [
    {
      "cell_type": "markdown",
      "metadata": {
        "id": "NKidvp-wPfR4",
        "colab_type": "text"
      },
      "source": [
        "Computer-Vision-II-Air-Drums"
      ]
    },
    {
      "cell_type": "markdown",
      "metadata": {
        "id": "Ty3HHZvVSfWl",
        "colab_type": "text"
      },
      "source": [
        "github: https://github.com/ric31303/Computer-Vision-II-Air-Drums.git"
      ]
    },
    {
      "cell_type": "code",
      "metadata": {
        "id": "DCXuGMKoPpoC",
        "colab_type": "code",
        "colab": {
          "base_uri": "https://localhost:8080/",
          "height": 34
        },
        "outputId": "9613c338-fe14-4193-9297-eca51525ae2d"
      },
      "source": [
        "print (\"hello world\")\n"
      ],
      "execution_count": 2,
      "outputs": [
        {
          "output_type": "stream",
          "text": [
            "hello world\n"
          ],
          "name": "stdout"
        }
      ]
    }
  ]
}