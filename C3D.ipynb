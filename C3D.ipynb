{
  "nbformat": 4,
  "nbformat_minor": 0,
  "metadata": {
    "colab": {
      "name": "airdrums",
      "provenance": [],
      "collapsed_sections": [],
      "toc_visible": true,
      "include_colab_link": true
    },
    "kernelspec": {
      "name": "python3",
      "display_name": "Python 3"
    },
    "accelerator": "GPU"
  },
  "cells": [
    {
      "cell_type": "markdown",
      "metadata": {
        "id": "view-in-github",
        "colab_type": "text"
      },
      "source": [
        "<a href=\"https://colab.research.google.com/github/ric31303/Computer-Vision-II-Air-Drums/blob/dev/C3D.ipynb\" target=\"_parent\"><img src=\"https://colab.research.google.com/assets/colab-badge.svg\" alt=\"Open In Colab\"/></a>"
      ]
    },
    {
      "cell_type": "markdown",
      "metadata": {
        "id": "NKidvp-wPfR4",
        "colab_type": "text"
      },
      "source": [
        "# **Computer**-Vision-II-Air-Drums\n",
        "\n",
        "github: https://github.com/ric31303/Computer-Vision-II-Air-Drums.git"
      ]
    },
    {
      "cell_type": "markdown",
      "metadata": {
        "id": "xwbcMaT4Jb3f",
        "colab_type": "text"
      },
      "source": [
        "# Set Env"
      ]
    },
    {
      "cell_type": "code",
      "metadata": {
        "id": "DCXuGMKoPpoC",
        "colab_type": "code",
        "colab": {
          "base_uri": "https://localhost:8080/",
          "height": 153
        },
        "outputId": "2d17f1a2-42c2-4dcc-9fb7-1506146aa0c5"
      },
      "source": [
        "!git clone https://github.com/ric31303/Computer-Vision-II-Air-Drums.git\n",
        "%ls"
      ],
      "execution_count": 1,
      "outputs": [
        {
          "output_type": "stream",
          "text": [
            "Cloning into 'Computer-Vision-II-Air-Drums'...\n",
            "remote: Enumerating objects: 116, done.\u001b[K\n",
            "remote: Counting objects: 100% (116/116), done.\u001b[K\n",
            "remote: Compressing objects: 100% (73/73), done.\u001b[K\n",
            "remote: Total 116 (delta 54), reused 85 (delta 35), pack-reused 0\u001b[K\n",
            "Receiving objects: 100% (116/116), 34.25 KiB | 4.89 MiB/s, done.\n",
            "Resolving deltas: 100% (54/54), done.\n",
            "\u001b[0m\u001b[01;34mComputer-Vision-II-Air-Drums\u001b[0m/  \u001b[01;34msample_data\u001b[0m/\n"
          ],
          "name": "stdout"
        }
      ]
    },
    {
      "cell_type": "code",
      "metadata": {
        "id": "b7H-t1zcHwrW",
        "colab_type": "code",
        "colab": {
          "base_uri": "https://localhost:8080/",
          "height": 139
        },
        "outputId": "86549384-bca8-4cd7-c18c-158f9cd565d2"
      },
      "source": [
        "from google.colab import drive\n",
        "drive.mount('/content/drive')\n",
        "%ls"
      ],
      "execution_count": 2,
      "outputs": [
        {
          "output_type": "stream",
          "text": [
            "Go to this URL in a browser: https://accounts.google.com/o/oauth2/auth?client_id=947318989803-6bn6qk8qdgf4n4g3pfee6491hc0brc4i.apps.googleusercontent.com&redirect_uri=urn%3aietf%3awg%3aoauth%3a2.0%3aoob&response_type=code&scope=email%20https%3a%2f%2fwww.googleapis.com%2fauth%2fdocs.test%20https%3a%2f%2fwww.googleapis.com%2fauth%2fdrive%20https%3a%2f%2fwww.googleapis.com%2fauth%2fdrive.photos.readonly%20https%3a%2f%2fwww.googleapis.com%2fauth%2fpeopleapi.readonly\n",
            "\n",
            "Enter your authorization code:\n",
            "··········\n",
            "Mounted at /content/drive\n",
            "\u001b[0m\u001b[01;34mComputer-Vision-II-Air-Drums\u001b[0m/  \u001b[01;34mdrive\u001b[0m/  \u001b[01;34msample_data\u001b[0m/\n"
          ],
          "name": "stdout"
        }
      ]
    },
    {
      "cell_type": "code",
      "metadata": {
        "id": "5g4gR8OcGZJu",
        "colab_type": "code",
        "outputId": "5ad18e8f-9b99-4dea-b649-2cd855760f6d",
        "colab": {
          "base_uri": "https://localhost:8080/",
          "height": 34
        }
      },
      "source": [
        "%run Computer-Vision-II-Air-Drums/C3D.py"
      ],
      "execution_count": 3,
      "outputs": [
        {
          "output_type": "stream",
          "text": [
            "Run CSD\n"
          ],
          "name": "stdout"
        }
      ]
    },
    {
      "cell_type": "markdown",
      "metadata": {
        "id": "HMkEq5KDJOG5",
        "colab_type": "text"
      },
      "source": [
        "# Run C3N model"
      ]
    },
    {
      "cell_type": "code",
      "metadata": {
        "id": "d3DEtW0VGxRG",
        "colab_type": "code",
        "colab": {}
      },
      "source": [
        "# import pandas as pd\n",
        "import os\n",
        "import matplotlib.pyplot as plt\n",
        "\n",
        "# url = 'sample_data/california_housing_test.csv'\n",
        "# df1 = pd.read_csv(url)\n",
        "# print(df1)\n",
        "path = 'drive/My Drive/ML_DATA/input/'\n",
        "# entries = os.listdir(path)\n",
        "# print(entries)\n",
        "c3d = C3D(path) \n",
        "c3d.epoch_num = 30\n",
        "c3d.class_weight = {0: 1.,\n",
        "        1: 50.,\n",
        "        2: 50.,\n",
        "        3: 50.\n",
        "        }"
      ],
      "execution_count": 0,
      "outputs": []
    },
    {
      "cell_type": "markdown",
      "metadata": {
        "id": "0V9RNDhbJoNd",
        "colab_type": "text"
      },
      "source": [
        "# Construct C3D model"
      ]
    },
    {
      "cell_type": "code",
      "metadata": {
        "id": "9fRwEuh8JwXZ",
        "colab_type": "code",
        "colab": {}
      },
      "source": [
        "print(\"[C3D][train] start\")\n",
        "\n",
        "# callbacks: early_stop, check_point\n",
        "es_callback = keras.callbacks.EarlyStopping(monitor='val_loss',min_delta=0.01, patience=2, mode = \"min\")\n",
        "cp_callback = keras.callbacks.ModelCheckpoint(filepath=CP_PATH,save_weights_only=True,verbose=1)\n",
        "callback_list = [es_callback,cp_callback]\n",
        "\n",
        "model = keras.Sequential(\n",
        "    [\n",
        "        Conv3D(64,c3d.conv_kernel_shape, activation='relu', input_shape=c3d.input_data_shape),\n",
        "        MaxPooling3D(pool_size=c3d.pool_kernel_shape1, strides=None, padding=\"valid\", data_format=None),\n",
        "        Conv3D(128,c3d.conv_kernel_shape, activation='relu'),\n",
        "        MaxPooling3D(pool_size=c3d.pool_kernel_shape1, strides=None, padding=\"valid\", data_format=None),\n",
        "        Flatten(),\n",
        "        Dense(64, activation=\"relu\", name=\"fc_layer1\"),\n",
        "        Dense(64, activation=\"relu\", name=\"fc_layer2\"),\n",
        "        Dense(c3d.output_size, activation=\"softmax\", name=\"fc_layer3\")\n",
        "    ]\n",
        ")\n",
        "model.compile('adam', loss='categorical_crossentropy',metrics=[\"accuracy\"])\n",
        "\n",
        "print(model.summary())\n",
        "# get data \n",
        "(trainX, testX, trainY, testY) = c3d.getData()\n",
        "# model.save_weights(checkpoint_path.format(epoch=0))\n",
        "\n",
        "\n",
        "print(\"\\n[C3D][train] training network...\")\n",
        "H = model.fit(trainX, trainY, validation_data=(testX, testY),\n",
        "    batch_size=c3d.batch_size, epochs=c3d.epoch_num,class_weight=c3d.class_weight,\n",
        "    callbacks = callback_list, verbose=1)\n",
        "# model.load_weights(checkpoint_path)\n",
        "model.save(MODEL_PATH)\n",
        "\n",
        "predictions = model.predict(testX, batch_size=c3d.batch_size)\n",
        "print(\"\\n[C3D][train] evaluating network...\")\n",
        "print(classification_report(testY.argmax(axis=1),predictions.argmax(axis=1),target_names=c3d.targets))\n",
        "print(\"[C3D][train] end\")\n",
        "\n",
        "# c3d_model.plotResult(H)\n",
        "\n",
        "\n"
      ],
      "execution_count": 0,
      "outputs": []
    },
    {
      "cell_type": "code",
      "metadata": {
        "id": "AGkiZgx7Cwtp",
        "colab_type": "code",
        "colab": {
          "base_uri": "https://localhost:8080/",
          "height": 316
        },
        "outputId": "b9dff5d6-5cb6-49b0-bdf6-78aa00322ee8"
      },
      "source": [
        "\n",
        "# load model and print predictions\n",
        "model = keras.models.load_model(MODEL_PATH)\n",
        "predictions = model.predict(testX, batch_size=c3d.batch_size)\n",
        "\n",
        "loss = H.history[\"loss\"]\n",
        "val_loss = H.history[\"val_loss\"]\n",
        "accuracy = H.history[\"accuracy\"]\n",
        "val_accuracy = H.history[\"val_accuracy\"]\n",
        "print(len(loss))\n",
        "\n",
        "training_number = len(loss)\n",
        "# plot the training loss and accuracy\n",
        "plt.style.use(\"ggplot\")\n",
        "plt.figure()\n",
        "plt.plot(np.arange(0, training_number), loss, label=\"train_loss\")\n",
        "plt.plot(np.arange(0, training_number), val_loss, label=\"val_loss\")\n",
        "plt.plot(np.arange(0, training_number), accuracy, label=\"train_acc\")\n",
        "plt.plot(np.arange(0, training_number), val_accuracy, label=\"val_acc\")\n",
        "plt.title(\"Training Loss and Accuracy\")\n",
        "plt.xlabel(\"Epoch #\")\n",
        "plt.ylabel(\"Loss/Accuracy\")\n",
        "plt.legend()\n",
        "plt.show()"
      ],
      "execution_count": 10,
      "outputs": [
        {
          "output_type": "stream",
          "text": [
            "13\n"
          ],
          "name": "stdout"
        },
        {
          "output_type": "display_data",
          "data": {
            "image/png": "[encoded data removed]",
            "text/plain": [
              "<Figure size 432x288 with 1 Axes>"
            ]
          },
          "metadata": {
            "tags": []
          }
        }
      ]
    }
  ]
}