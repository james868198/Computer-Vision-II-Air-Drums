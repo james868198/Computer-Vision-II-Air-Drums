{
  "nbformat": 4,
  "nbformat_minor": 0,
  "metadata": {
    "colab": {
      "name": "airdrums",
      "provenance": [],
      "collapsed_sections": [],
      "include_colab_link": true
    },
    "kernelspec": {
      "name": "python3",
      "display_name": "Python 3"
    },
    "accelerator": "GPU"
  },
  "cells": [
    {
      "cell_type": "markdown",
      "metadata": {
        "id": "view-in-github",
        "colab_type": "text"
      },
      "source": [
        "<a href=\"https://colab.research.google.com/github/ric31303/Computer-Vision-II-Air-Drums/blob/master/C3D.ipynb\" target=\"_parent\"><img src=\"https://colab.research.google.com/assets/colab-badge.svg\" alt=\"Open In Colab\"/></a>"
      ]
    },
    {
      "cell_type": "markdown",
      "metadata": {
        "id": "NKidvp-wPfR4",
        "colab_type": "text"
      },
      "source": [
        "# **Computer**-Vision-II-Air-Drums\n",
        "\n",
        "github: https://github.com/ric31303/Computer-Vision-II-Air-Drums.git"
      ]
    },
    {
      "cell_type": "markdown",
      "metadata": {
        "id": "xwbcMaT4Jb3f",
        "colab_type": "text"
      },
      "source": [
        "# Set Env"
      ]
    },
    {
      "cell_type": "code",
      "metadata": {
        "id": "DCXuGMKoPpoC",
        "colab_type": "code",
        "colab": {}
      },
      "source": [
        "!git clone https://github.com/ric31303/Computer-Vision-II-Air-Drums.git\n",
        "%ls"
      ],
      "execution_count": 0,
      "outputs": []
    },
    {
      "cell_type": "code",
      "metadata": {
        "id": "b7H-t1zcHwrW",
        "colab_type": "code",
        "colab": {}
      },
      "source": [
        "from google.colab import drive\n",
        "drive.mount('/content/drive')\n",
        "%ls"
      ],
      "execution_count": 0,
      "outputs": []
    },
    {
      "cell_type": "code",
      "metadata": {
        "id": "5g4gR8OcGZJu",
        "colab_type": "code",
        "colab": {
          "base_uri": "https://localhost:8080/",
          "height": 34
        },
        "outputId": "80ff971c-b1c9-49c2-8491-3d93894c4f98"
      },
      "source": [
        "%run Computer-Vision-II-Air-Drums/C3D.py"
      ],
      "execution_count": 3,
      "outputs": [
        {
          "output_type": "stream",
          "text": [
            "Run CSD\n"
          ],
          "name": "stdout"
        }
      ]
    },
    {
      "cell_type": "markdown",
      "metadata": {
        "id": "HMkEq5KDJOG5",
        "colab_type": "text"
      },
      "source": [
        "# Run C3N model"
      ]
    },
    {
      "cell_type": "code",
      "metadata": {
        "id": "d3DEtW0VGxRG",
        "colab_type": "code",
        "colab": {}
      },
      "source": [
        "# import pandas as pd\n",
        "import os\n",
        "# url = 'sample_data/california_housing_test.csv'\n",
        "# df1 = pd.read_csv(url)\n",
        "# print(df1)\n",
        "path = 'drive/My Drive/ML_DATA/input/'\n",
        "# entries = os.listdir(path)\n",
        "# print(entries)\n",
        "model = C3D(path) \n",
        "model.epoch_num = 50\n",
        "model.train()"
      ],
      "execution_count": 0,
      "outputs": []
    },
    {
      "cell_type": "markdown",
      "metadata": {
        "id": "0V9RNDhbJoNd",
        "colab_type": "text"
      },
      "source": [
        "# Construct C3D model"
      ]
    },
    {
      "cell_type": "code",
      "metadata": {
        "id": "9fRwEuh8JwXZ",
        "colab_type": "code",
        "colab": {}
      },
      "source": [
        ""
      ],
      "execution_count": 0,
      "outputs": []
    }
  ]
}